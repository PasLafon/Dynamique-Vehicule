{
 "cells": [
  {
   "cell_type": "markdown",
   "metadata": {},
   "source": [
    "<a href=\"http://www.utt.fr\"><img src=\"logo-UTT.svg\" width=\"200\" align=\"left\"></a>\n",
    "### Formation d'Ingénieur en Génie Mécanique\n",
    "#### Eléments de bureau d'études (code UE TN12 niveau L3)\n",
    "---\n",
    "\n",
    "* Rapide tutoriel sur les [notebook et JupyterLab](https://github.com/PasLafon/UTT-Teaching/blob/master/Tuto-Perso-Jupyter/Tuto-Jupyter.md)\n",
    "* Rapide tutoriel pour [télécharger ce notebook](https://github.com/PasLafon/UTT-Teaching/blob/master/Tuto-Perso-Jupyter/Tuto-nbviewer-GitHub.md) et le rendre actif (l'éxecuter, le modifier, ..) \n",
    "\n",
    "---"
   ]
  },
  {
   "cell_type": "markdown",
   "metadata": {},
   "source": [
    "## TD - Stabilité simplifiée d'un véhicule"
   ]
  },
  {
   "cell_type": "markdown",
   "metadata": {},
   "source": [
    "<img src=\"Renault4_Turbo2_RP.svg\" width=\"800\">"
   ]
  },
  {
   "cell_type": "markdown",
   "metadata": {},
   "source": [
    "Hypothèse simplificatrice :\n",
    "- Suspensions et pneus déformables non considérés => solide indéformable\n",
    "- Irrégularité de l’asphalte non considéré => coefficients de frottement et d’adhérence constants : adhérence pneu/route = 0.7\n",
    "\n",
    "Véhicule :\n",
    "- Voie $V$ = 1350 mm\n",
    "- Empattement $E$ = 2400mm\n",
    "- Centre de gravité : hauteur $h$ = 800mm et $l$ = 1450mm\n",
    "- Poids : $M$=970kg"
   ]
  },
  {
   "cell_type": "code",
   "execution_count": null,
   "metadata": {},
   "outputs": [],
   "source": [
    "## Donnee vehicule :\n",
    "M = 970  # Masse totale en [kg]\n",
    "V = 1350 # Voie en [mm]\n",
    "E = 2400 # Empattement [mm]\n",
    "h = 800  # Hauteur CdG [mm]\n",
    "l = 1450 # Centrage CdG [mm]\n",
    "g = 9.81 # Gravité [m/s2]\n",
    "f = 0.7\n"
   ]
  },
  {
   "cell_type": "markdown",
   "metadata": {},
   "source": [
    "Modèlisation :\n",
    "* voiture = solide indéformable, en contact avec le sol en $4$ points.\n",
    "* Contact roue/sol -> liaisons ponctuelles avec frottement.\n",
    "\n"
   ]
  },
  {
   "cell_type": "markdown",
   "metadata": {},
   "source": [
    "----\n",
    "### 1) Etude statique :"
   ]
  },
  {
   "cell_type": "markdown",
   "metadata": {},
   "source": [
    "\n",
    "#### a) Efforts de contact des pneus sur le sol :"
   ]
  },
  {
   "cell_type": "markdown",
   "metadata": {},
   "source": [
    "* On isole la voiture\n",
    "* Le bilan des actions mécaniques extérieures fait apparaitre :\n",
    "    * On fait l'hypothèse que le contact pneu/sol est modélisé par une liaison appui ponctuel avec frottement (frottement \"sec\", loi de Coulomb). Appui ponctuel car la surface de contact pneu/route est petite en regard des dimensions de la voiture.\n",
    "    \n",
    "$$\n",
    "\\{\\mathcal{T}_{\\text{Sol}\\to\\text{Roue }i}\\}:\n",
    "\\left\\lbrace\n",
    "\\begin{array}{c}\n",
    "\\vec{\\mathcal{R}}_i\\\\\n",
    "\\vec{0}\n",
    "\\end{array}\n",
    "\\right\\rbrace_{M_i}\n",
    "\\quad\n",
    "i=1\\ldots4\n",
    "\\quad\n",
    "\\{\\mathcal{T}_{\\text{Poids}\\to\\text{Voiture}}\\}:\n",
    "\\left\\lbrace\n",
    "\\begin{array}{c}\n",
    "M\\vec{g}\\\\\n",
    "\\vec{0}\n",
    "\\end{array}\n",
    "\\right\\rbrace_{G}\n",
    "$$\n",
    "\n",
    "Dans ce bilan chaque résultante $\\vec{\\mathcal{R}}_i$ s'écrit avec 3 composantes, inconnues ($X_i$, $Y_i$, $Z_i$):\n",
    "\n",
    "$$\\vec{\\mathcal{R}}_i = X_i\\vec{x} + Y_i\\vec{y} + Z_i\\vec{z}$$\n",
    "\n",
    "   * Avec un indice de mobilité $m=0$, un seul ensemble cinématiquement équivalent (donc 6 équations) on a :\n",
    "    \n",
    "    $$h = 0 + 12 -6=6$$\n",
    "    \n",
    "    Système hyperstatique de degré 6 qu'on ne peut pas résoudre complétement sans des équations supplémentaires.\n",
    "    \n",
    "    On peut considérer 2 façons d'écrire des relations suppplémentaires :\n",
    "     1. Une symétrie plane par rapport à $[\\vec{x},\\vec{z}]$. On aurait alors au niveau des actions de contact, en restant en 3D :\n",
    "     \n",
    "    $$ Z_1 = Z_4\\quad Z_2=Z_3\\quad X_1=X_4\\quad X_2=X_3 \\quad Y_1=-Y_4\\quad Y_2=-Y_3$$\n",
    "     \n",
    "     ou en traitant le problème comme plan, dans le plan $[\\vec{x},\\vec{z}]$ :\n",
    "     \n",
    "    $$ Z_1 = Z_4\\quad Z_2=Z_3\\quad X_1=X_4\\quad X_2=X_3 \\quad Y_1=Y_2=Y_3=Y_4=0$$\n",
    "     \n",
    "     2. On se donne une loi de comportement de l'ensemble \"chassis + suspension + pneus\" mais on quitte l'hypothèse d'un solide indéformable postulée au départ.\n",
    "     "
   ]
  },
  {
   "cell_type": "markdown",
   "metadata": {},
   "source": [
    "* PFS de la voiture dans le plan $[\\vec{x},\\vec{z}]$, en considérant la symétrie par rapport à ce plan.\n",
    "\n",
    "$$\n",
    "\\left\\lbrace\n",
    "\\begin{array}{crcl}\n",
    "X_1 & l-E  &        & X_1\\\\\n",
    "  0 & 0 & \\wedge & 0\\\\\n",
    "Z_1 & -h   &        & Z_1\n",
    "\\end{array}\n",
    "\\right\\rbrace_G\n",
    "+\n",
    "\\left\\lbrace\n",
    "\\begin{array}{crcl}\n",
    "X_2 & l  &        & X_2\\\\\n",
    "  0 & 0 & \\wedge & 0\\\\\n",
    "Z_2 & -h   &        & Z_2\n",
    "\\end{array}\n",
    "\\right\\rbrace_G\n",
    "+\n",
    "\\left\\lbrace\n",
    "\\begin{array}{crcl}\n",
    "X_3 & l  &        & X_3\\\\\n",
    "  0 & 0 & \\wedge & 0\\\\\n",
    "Z_3 & -h   &        & Z_3\n",
    "\\end{array}\n",
    "\\right\\rbrace_G\n",
    "+\n",
    "\\left\\lbrace\n",
    "\\begin{array}{crcl}\n",
    "X_4 & l-E  &        & X_4\\\\\n",
    "  0 & 0 & \\wedge & 0\\\\\n",
    "Z_4 & -h   &        & Z_4\n",
    "\\end{array}\n",
    "\\right\\rbrace_G\n",
    "+\n",
    "\\left\\lbrace\n",
    "\\begin{array}{cl}\n",
    "  0 & 0\\\\\n",
    "  0 & 0\\\\\n",
    "-Mg & 0\n",
    "\\end{array}\n",
    "\\right\\rbrace_G\n",
    "=\\lbrace 0 \\rbrace\n",
    "$$\n",
    "\n",
    "Avec\n",
    "\n",
    "$$ Z_1 = Z_4\\quad Z_2=Z_3\\quad X_1=X_4\\quad X_2=X_3$$\n",
    "\n",
    "On supposera que $ Y_1=Y_2=Y_3=Y_4=0$ car ces composantes sont \"hors plan\".\n",
    "Ici on dénombre $12-4=8$ inconnues, et $3$ équations du PFS + $4$ équations venant de la symétrie, aucune mobilité donc :\n",
    "\n",
    "$$h = 0 + 8 - (3+4) = 1$$\n",
    "\n",
    "Le calcul donne :\n",
    "\n",
    "$$ Z_1=Z_4=\\frac{Mgl}{2E}$$\n",
    "\n",
    "$$ Z_2=Z_3=\\frac{Mg(E-l)}{2E}$$\n",
    "\n",
    "$$ X_1=X_4$$\n",
    "\n",
    "$$ X_2=X_3=-X_4$$\n",
    "\n",
    "On ne peut pas déterminer les composantes horizontales des actions de contact, mais on remarquera que la solution $X_1=X_2=X_3=X_4=0$ est une solution du système."
   ]
  },
  {
   "cell_type": "code",
   "execution_count": null,
   "metadata": {},
   "outputs": [],
   "source": [
    "Z1 = M*g*l/(2*E)\n",
    "Z2 = M*g*(E-l)/(2*E)\n",
    "print('Sur chaque roue AV %.2f N'%Z2)\n",
    "print('Sur chaque roue AR %.2f N'%Z1)"
   ]
  },
  {
   "cell_type": "markdown",
   "metadata": {},
   "source": [
    "#### b) Effort tangentiel maximal en adhérence des roues avant et des roues arrière :"
   ]
  },
  {
   "cell_type": "markdown",
   "metadata": {},
   "source": [
    "* Loi de Coulomb (frottement sec) à la limite d'adhérence, la composante normale au plan tangent commun des géométries en contact $\\vec{N}$ et la composante tangentielle (dans le plan) $\\vec{T}$ sont telles que :\n",
    "\n",
    "$$\\Vert\\vec{T}\\Vert=f\\Vert\\vec{N}\\Vert$$\n",
    "\n",
    "Avec $f=\\tan\\varphi$ le coefficient de frottement.\n",
    "\n",
    "* Sur les roues du train AV :\n",
    "\n",
    "$$X_2=X_3=fZ_2=fZ_3$$\n",
    "\n",
    "* Sur les roues du traint AR :\n",
    "\n",
    "$$X_1=X_4=fZ_1=fZ_4$$"
   ]
  },
  {
   "cell_type": "code",
   "execution_count": null,
   "metadata": {},
   "outputs": [],
   "source": [
    "X1 = f*M*g*l/(2*E)\n",
    "X2 = f*M*g*(E-l)/(2*E)\n",
    "print('Sur chaque roue AV %.2f N'%X2)\n",
    "print('Sur chaque roue AR %.2f N'%X1)"
   ]
  },
  {
   "cell_type": "markdown",
   "metadata": {},
   "source": [
    "#### c) Accélération maximale que peut réaliser cette voiture avec roue AR motrice :"
   ]
  },
  {
   "cell_type": "markdown",
   "metadata": {},
   "source": [
    "* La voiture accélére parce qu'une force \"motrice\" s'applique sur celle-ci et modifie son équilibre, i.e. la somme des torseurs actions mécaniques extérieures n'est plus nulle.\n",
    "* En supposant que cette force \"motrice\" $\\vec{F}_{Mot}$ s'applique au CdG de la voiture (ce qui n'est pas le cas en réalité, elle s'applique au niveau du contact roue motrice/sol) on peut écrire, dans le repère Galiléen lié au sol $\\mathcal{R}_g$ :\n",
    "\n",
    "$$\\vec{F}_{Mot} = M\\vec{a}_{\\text{Voiture}/\\mathcal{R}_g}$$\n",
    "\n",
    "Ici la force motrice maximale donne l'accélération maxi et c'est la composante horizontale maximale transmissible par adhérence des actions de contact roue AR/sol, et donc :\n",
    "\n",
    "$$a_{max} = \\frac{2X_1}{M} = \\frac{glf}{E}$$"
   ]
  },
  {
   "cell_type": "code",
   "execution_count": null,
   "metadata": {},
   "outputs": [],
   "source": [
    "a = f*g*l/E\n",
    "print ('acceleration maxi %.2f [m/s2] soit %.2fg '%(a,f*l/E))"
   ]
  },
  {
   "cell_type": "markdown",
   "metadata": {},
   "source": [
    "On va voir que ce caclul ne permet pas d'obtenir la bonne valeur de l'accélération maximale car la force motrice ne s'applique pas au CdG."
   ]
  },
  {
   "cell_type": "markdown",
   "metadata": {},
   "source": [
    "---\n",
    "### 2) Etude dynamique :\n",
    "\n",
    "<img src=\"Renault4_Turbo2_RP_acceleration.svg\" width=\"600\" >\n",
    "\n",
    "#### a) Accélération de 0.4g :\n",
    "\n",
    "* Le PFD  appliqué à la voiture, dans le repère galiléen lié au Sol $\\mathcal{R}_g$ s'écrit :\n",
    "\n",
    "$$\n",
    "\\sum_{i=1}^{i=4}\n",
    "\\left\\lbrace\n",
    "\\begin{array}{c}\n",
    "\\vec{\\mathcal{R}}_i\\\\\n",
    "\\vec{GM_i}\\wedge\\vec{\\mathcal{R}}_i\n",
    "\\end{array}\n",
    "\\right\\rbrace_{G}\n",
    "+\n",
    "\\left\\lbrace\n",
    "\\begin{array}{c}\n",
    "M\\vec{g}\\\\\n",
    "\\vec{0}\n",
    "\\end{array}\n",
    "\\right\\rbrace_{G}\n",
    "=\n",
    "\\left\\lbrace\n",
    "\\begin{array}{c}\n",
    "M\\vec{a}_{\\text{Voiture}/\\mathcal{R}_g}\\\\\n",
    "\\vec{0}\n",
    "\\end{array}\n",
    "\\right\\rbrace_{G}\n",
    "$$\n",
    "\n",
    "Ici on suppose que la voiture est en mouvement rectiligne, et on néglige les inerties des parties tournantes (celles des roues, dans les élements de transmission et le moteur), donc en $G$ le moment dynamique de la voiture est nul.\n",
    "\n",
    "En supposant le problème plan comme pour le PFS on obtient :\n",
    "\n",
    "$$\n",
    "\\left\\lbrace\n",
    "\\begin{array}{crcl}\n",
    "X_1 & l-E  &        & X_1\\\\\n",
    "  0 & 0 & \\wedge & 0\\\\\n",
    "Z_1 & -h   &        & Z_1\n",
    "\\end{array}\n",
    "\\right\\rbrace_G\n",
    "+\n",
    "\\left\\lbrace\n",
    "\\begin{array}{crcl}\n",
    "X_2 & l  &        & X_2\\\\\n",
    "  0 & 0 & \\wedge & 0\\\\\n",
    "Z_2 & -h   &        & Z_2\n",
    "\\end{array}\n",
    "\\right\\rbrace_G\n",
    "+\n",
    "\\left\\lbrace\n",
    "\\begin{array}{crcl}\n",
    "X_3 & l  &        & X_3\\\\\n",
    "  0 & 0 & \\wedge & 0\\\\\n",
    "Z_3 & -h   &        & Z_3\n",
    "\\end{array}\n",
    "\\right\\rbrace_G\n",
    "+\n",
    "\\left\\lbrace\n",
    "\\begin{array}{crcl}\n",
    "X_4 & l-E  &        & X_4\\\\\n",
    "  0 & 0 & \\wedge & 0\\\\\n",
    "Z_4 & -h   &        & Z_4\n",
    "\\end{array}\n",
    "\\right\\rbrace_G\n",
    "+\n",
    "\\left\\lbrace\n",
    "\\begin{array}{cl}\n",
    "  0 & 0\\\\\n",
    "  0 & 0\\\\\n",
    "-Mg & 0\n",
    "\\end{array}\n",
    "\\right\\rbrace_G\n",
    "=\n",
    "\\left\\lbrace\n",
    "\\begin{array}{cl}\n",
    " Ma & 0\\\\\n",
    "  0 & 0\\\\\n",
    "  0 & 0\n",
    "\\end{array}\n",
    "\\right\\rbrace_G\n",
    "$$\n",
    "\n",
    "On obtient les solutions :\n",
    "\n",
    "$$Z_1=Z_4=\\frac{M(ah+gl)}{2E}$$\n",
    "\n",
    "$$Z_2=Z_3=\\frac{M(g(E-l)-ah)}{2E}$$\n",
    "\n",
    "$$X_1=X_4$$\n",
    "\n",
    "$$X_2=X_3=\\frac{Ma}{2}-X_4$$"
   ]
  },
  {
   "cell_type": "markdown",
   "metadata": {},
   "source": [
    "Avec $a=0.4g$ on a :"
   ]
  },
  {
   "cell_type": "code",
   "execution_count": 5,
   "metadata": {},
   "outputs": [],
   "source": [
    "a = 0.4*g\n",
    "Z1a = M*(a*h+g*l)/(2*E)\n",
    "Z2a = M*(g*(E-l)-a*h)/(2*E)\n",
    "print('Sur chaque roue AV %.2f N'%Z2a)\n",
    "print('Sur chaque roue AR %.2f N'%Z1a)\n",
    "print('Transfert de charge :')"
   ]
  },
  {
   "cell_type": "markdown",
   "metadata": {},
   "source": [
    "Le \"transfert de charge\" en % est :"
   ]
  },
  {
   "cell_type": "code",
   "execution_count": 6,
   "metadata": {},
   "outputs": [
    {
     "name": "stdout",
     "output_type": "stream",
     "text": [
      "Roue AV -33.68%\n",
      "Roue AR +22.07%\n"
     ]
    }
   ],
   "source": [
    "print('Roue AV %+.2f%%'%(100*(Z2a-Z2)/Z2))\n",
    "print('Roue AR %+.2f%%'%(100*(Z1a-Z1)/Z1))"
   ]
  },
  {
   "cell_type": "markdown",
   "metadata": {},
   "source": [
    "----\n",
    "\n",
    "*Remarques :*\n",
    "\n",
    "Le sens des efforts indiqués sur la figure, ainsi que le sens du vecteur $M\\vec{a}_{\\text{Voiture}/\\mathcal{R}_g}$ sont contraires à l'intuition ou les effets ressentis, la voiture lors de l'accélération à tendance à basculer vers l'arrière, sensation identique à celle du conducteur ....\n",
    "\n",
    "Explication :\n",
    "\n",
    "Le PFD sous la forme énoncée par Newton n'est vraie que dans un repère Galiléen (i.e tout repère dans lequel, soumis à aucune action mécanique extérieure, le solide a un mouvement rectiligne à vitesse constante).\n",
    "Lorsqu'on veut écrire le PFD dans un repère non Galiléen, il faut exprimer l'accélération dans un repère Galiléen (il en existe toujours un .. la terre, le soleil, des étoiles lontaines, etc .. cela dépend de la précision suohaitée dans la modélisation) avec la composition des accélérations (cf cours de cinématique de 1er cycle) pour un point $P$ quelconque du solide $S$ avec $\\mathcal{R}_g$ repère Galiléen et $\\mathcal{R}_1$ un repère quelconque :\n",
    "\n",
    "$$\n",
    "\\vec{a}_{P\\in S/\\mathcal{R}_g} = \\underbrace{\\vec{a}_{P\\in S/\\mathcal{R}_1}}_\\text{Acc. Relative} + \\underbrace{\\vec{a}_{P\\in \\mathcal{R}_1/\\mathcal{R}_g}}_\\text{Acc. d'Entrainement} + \\underbrace{2\\vec{\\Omega}_{S/\\mathcal{R}_1}\\wedge \\vec{V}_{P\\in S/\\mathcal{R}_1}}_\\text{Acc. de Coriolis}\n",
    "$$\n",
    "\n",
    "Lorsqu'il n'y a pas de mouvement de rotation $\\vec{\\Omega}_{S/\\mathcal{R}_1}=\\vec{0}$ et en assimilant $S$ à la voiture de masse $M$, le PFD s'écrit dans $\\mathcal{R}_g$ :\n",
    "\n",
    "$$\n",
    "\\sum\\vec{F}_{\\text{Ext}\\to\\text{Voiture}} = M\\vec{a}_{G\\in\\text{Voiture}/\\mathcal{R}_g} =\n",
    "M \\left( \\vec{a}_{G\\in\\text{Voiture}/\\mathcal{R}_1} + \\vec{a}_{G\\in\\mathcal{R}_1/\\mathcal{R}_g}\\right)\n",
    "$$\n",
    "\n",
    "Soit :\n",
    "\n",
    "$$\n",
    "\\sum\\vec{F}_{\\text{Ext}\\to\\text{Voiture}} - M\\vec{a}_{G\\in\\mathcal{R}_1/\\mathcal{R}_g} = M\\vec{a}_{G\\in\\text{Voiture}/\\mathcal{R}_1}\n",
    "$$\n",
    "\n",
    "Cela ressemble donc au PFD de la voiture dans $\\mathcal{R}_1$ mais avec le terme $- M\\vec{a}_{G\\in\\mathcal{R}_1/\\mathcal{R}_g}$ en plus du côté des actions mécaniques mécaniques. Ce terme a la dimension d'une force, mais n'est pas une force au sens de la mécanique Newtionnienne (i.e une interaction). Certains auteurs l'appelle \"force d'inertie\" ou \"pseudo force d'inertie\".</br>\n",
    "Dans notre exemple en considérant un repère $\\mathcal{R}_1$ lié à la voiture on a évidemment :\n",
    "\n",
    "$$\\vec{a}_{G\\in\\text{Voiture}/\\mathcal{R}_1}=\\vec{0}$$\n",
    "\n",
    "et\n",
    "\n",
    "$$\\vec{a}_{G\\in\\mathcal{R}_1/\\mathcal{R}_g} = \\vec{a}_{G\\in\\text{Voiture}/\\mathcal{R}_g}$$\n",
    "On retrouve alors du côté des actions mécaniques :\n",
    "\n",
    "$$\n",
    "-Mvec{a}_{G\\in\\mathcal{R}_1/\\mathcal{R}_g} = -M\\vec{a}_{G\\in\\text{Voiture}/\\mathcal{R}_g}\n",
    "$$\n",
    "\n",
    "cette grandeur homogène à une force qui explique l'intuition et le ressenti du conducteur (qui sur le conducteur s'exprime avec la masse du conducteur, bien sur).\n",
    "\n",
    "----"
   ]
  },
  {
   "cell_type": "markdown",
   "metadata": {},
   "source": [
    "#### b) Accélération maximale à la limite d'adhérence\n",
    "\n",
    "* En supposant que les roues AR sont motrices, à la limite d'adhérence on a :\n",
    "\n",
    "$$X_{1,4}\\leq fZ_{1,4}= f\\frac{M(ah+gl)}{2E}\\quad\\text{et}\\quad X_{2,3}=0$$</br>\n",
    "on déduit des équations du PFD :\n",
    "\n",
    "$$X_1 = X_4 = \\frac{Ma}{2}$$\n",
    "\n",
    "et :\n",
    "\n",
    "$$\\frac{Ma}{2} \\leq  f\\frac{M(ah+gl)}{2E}$$\n",
    "\n",
    "soit la valeur maximale de l'accélération :\n",
    "\n",
    "$$a\\leq a_{max}=\\frac{fl}{E-hf}g$$"
   ]
  },
  {
   "cell_type": "code",
   "execution_count": 7,
   "metadata": {},
   "outputs": [
    {
     "name": "stdout",
     "output_type": "stream",
     "text": [
      "acceleration maxi 5.41 [m/s2] soit 0.55g \n"
     ]
    }
   ],
   "source": [
    "amax = (f*l)/(E-h*f)*g\n",
    "print ('acceleration maxi %.2f [m/s2] soit %.2fg '%(amax,amax/g))"
   ]
  },
  {
   "cell_type": "markdown",
   "metadata": {},
   "source": [
    "* En supposant que les roues AV sont motrices, à la limite d'adhérence on a :\n",
    "\n",
    "$$X_{2,3}\\leq fZ_{2,3}= f\\frac{M(g(E-h)-ah)}{2E}\\quad\\text{et}\\quad X_{1,4}=0$$\n",
    "\n",
    "on déduit des équations du PFD :\n",
    "\n",
    "$$X_2 = X_2 = \\frac{Ma}{2}$$\n",
    "\n",
    "et :\n",
    "\n",
    "$$\\frac{Ma}{2} \\leq  f\\frac{M(g(E-h)-ah)}{2E}$$\n",
    "\n",
    "soit la valeur maximale de l'accélération :\n",
    "\n",
    "$$a\\leq a_{max}=\\frac{f(E-l)}{E-hf}g$$"
   ]
  },
  {
   "cell_type": "code",
   "execution_count": 8,
   "metadata": {},
   "outputs": [
    {
     "name": "stdout",
     "output_type": "stream",
     "text": [
      "acceleration maxi 3.55 [m/s2] soit 0.36g \n"
     ]
    }
   ],
   "source": [
    "amax = f*(E-l)/(E-h*f)*g\n",
    "print ('acceleration maxi %.2f [m/s2] soit %.2fg '%(amax,amax/g))"
   ]
  },
  {
   "cell_type": "markdown",
   "metadata": {},
   "source": [
    "* En supposant que les roues AV et AR sont motrices, à la limite d'adhérence on a :\n",
    "\n",
    "$$X_{2,3}\\leq fZ_{2,3}= f\\frac{M(g(E-h)-ah)}{2E}\\quad\\text{et}\\quad X_{1,4}\\leq fZ_{1,4}= f\\frac{M(ah+gl)}{2E}$$\n",
    "\n",
    "on déduit des équations du PFD :\n",
    "\n",
    "$$X_1 + X_2 + X_3 + X_4 = Ma$$\n",
    "\n",
    "et :\n",
    "\n",
    "$$Ma \\leq  f\\left[\\frac{M(g(E-l)-ah)}{E} + \\frac{M(ah+gl)}{E}\\right]$$\n",
    "\n",
    "soit la valeur maximale de l'accélération :\n",
    "\n",
    "$$a\\leq a_{max}=fg$$"
   ]
  },
  {
   "cell_type": "markdown",
   "metadata": {},
   "source": [
    "---\n",
    "### 3) Etude de stabilité :\n",
    "\n",
    "#### a) Bascule en roue arrière :\n",
    "\n",
    "* La voiture commence à basculer lorsque la composante normale des actions de contact roue AV/sol deviennent nulles, et bascule lorsque celles-ci sont négatives donc :\n",
    "\n",
    "$$Z_2=Z_3=\\frac{M(g(E-l)-ah)}{2E}<0$$\n",
    "L'accélération $a$ qui permet cette bascule doit être telle que :\n",
    "\n",
    "$$a>g\\frac{(E-l)}{h}$$\n",
    "Avec les roues arrières motrice, l'accélération maximale à la limite de l'adhérence est telle que :\n",
    "\n",
    "$$a_{max}=\\frac{fl}{E-hf}g$$\n",
    "\n",
    "pour qu'il y ait bascule on doit avoir :\n",
    "\n",
    "$$a_{max}=\\frac{fl}{E-hf}g>g\\frac{(E-l)}{h}$$\n",
    "\n",
    "soit\n",
    "\n",
    "$$l>E-hf$$"
   ]
  },
  {
   "cell_type": "code",
   "execution_count": 9,
   "metadata": {},
   "outputs": [
    {
     "name": "stdout",
     "output_type": "stream",
     "text": [
      "l pour bascule : 1840.00mm\n"
     ]
    }
   ],
   "source": [
    "lbas = E - h*f\n",
    "print('l pour bascule : %.2fmm'%lbas)"
   ]
  },
  {
   "cell_type": "markdown",
   "metadata": {},
   "source": [
    "#### b) Bascule en virage :\n",
    "\n",
    "* Pour cette étude il faut écrire le PFD de la voiture en virage, donc dans un mouvement de rotation autour d'un point fixe. Pour traitet cette étude simplement i.e dans le plan $[\\vec{y},\\vec{z}]$, il faut faire les hypothèses \"fortes\" suivantes :\n",
    "    * Vitesse de giration constante $\\to$ pas d'accélération tangentielle (suivant $\\vec{x}$).\n",
    "    * Symétrie des actions de contact AR/AV, cela suppose que CdG de la voiture est situé au centre.\n",
    "    \n",
    "Le PFD s'écrit dans le repère Galiléen $\\mathcal{R}_g$ associé au sol :\n",
    "\n",
    "$$\n",
    "\\sum\\limits_{i=1}^{i=4}\n",
    "\\left\\lbrace\n",
    "\\begin{array}{c}\n",
    "\\vec{\\mathcal{R}}_i\\\\\n",
    "\\vec{GM_i}\\wedge\\vec{\\mathcal{R}}_i\n",
    "\\end{array}\n",
    "\\right\\rbrace_{G}\n",
    "+\n",
    "\\left\\lbrace\n",
    "\\begin{array}{c}\n",
    "M\\vec{g}\\\\\n",
    "\\vec{0}\n",
    "\\end{array}\n",
    "\\right\\rbrace_{G}\n",
    "=\n",
    "\\left\\lbrace\n",
    "\\begin{array}{c}\n",
    "M\\vec{a}_{\\text{Voiture}/\\mathcal{R}_g}\\\\\n",
    "\\vec{0}\n",
    "\\end{array}\n",
    "\\right\\rbrace_{G}\n",
    "$$\n",
    "\n",
    "Ici, avec $O$ sur l'axe de rotation , et [O,$\\vec{x}_0,\\vec{y}_0,\\vec{z}_0]$ le repère fixe associé à $\\mathcal{R}_g$\n",
    "\n",
    "$$\n",
    "\\vec{a}_{\\text{Voiture}/\\mathcal{R}_g} = \\frac{\\mathrm{d}^2}{\\mathrm{d}t^2}\\left[\\vec{OG}\\right]=\\frac{\\mathrm{d}^2}{\\mathrm{d}t^2}\\left[R(\\cos\\theta\\vec{y}_0 + \\sin\\theta\\vec{x}_0)\\right] = -R\\dot{\\theta}^2\\vec{y}\\quad\\text{(avec $\\ddot{\\theta}=0$)}\n",
    "$$"
   ]
  },
  {
   "cell_type": "markdown",
   "metadata": {},
   "source": [
    "<img src=\"Renault4_Turbo2_RP_virage.svg\" width=\"600\">"
   ]
  },
  {
   "cell_type": "markdown",
   "metadata": {},
   "source": [
    "---\n",
    "\n",
    "*Remarques :*\n",
    "\n",
    "Ici on peut faire la même remarque avec le même raisonnement et ce que l'on nomme \"force centrifuge\" qui s'écrit : $MR\\dot{\\theta}^2\\vec{y}$.\n",
    "\n",
    "---"
   ]
  },
  {
   "cell_type": "markdown",
   "metadata": {},
   "source": [
    "On a alors (en considérant $X_1=X_2=X_3=X_4=0$ pour être dans le plan plan $[\\vec{y},\\vec{z}]$) avec $Z_1=Z_2$ et $Z_3=Z_4$, $Y_1=Y_2$ et $Y_3=Y_4$ comme conditions de symétrie :\n",
    "\n",
    "$$\n",
    "\\left\\lbrace\n",
    "\\begin{array}{crcl}\n",
    "0 & 0  &        & 0\\\\\n",
    "Y_1  & -V/2 & \\wedge & Y_1\\\\\n",
    "Z_1 & -h   &        & Z_1\n",
    "\\end{array}\n",
    "\\right\\rbrace_G\n",
    "+\n",
    "\\left\\lbrace\n",
    "\\begin{array}{crcl}\n",
    "0 & 0  &        & 0\\\\\n",
    "Y_2 & -V/2 & \\wedge & Y_2\\\\\n",
    "Z_2 & -h   &        & Z_2\n",
    "\\end{array}\n",
    "\\right\\rbrace_G\n",
    "+\n",
    "\\left\\lbrace\n",
    "\\begin{array}{crcl}\n",
    "  0 & 0  &        & 0\\\\\n",
    "Y_3 & V/2 & \\wedge & Y_3\\\\\n",
    "Z_3 & -h   &        & Z_3\n",
    "\\end{array}\n",
    "\\right\\rbrace_G\n",
    "+\n",
    "\\left\\lbrace\n",
    "\\begin{array}{crcl}\n",
    "  0 & 0  &        & 0\\\\\n",
    "Y_4 & V/2 & \\wedge & Y_4\\\\\n",
    "Z_4 & -h   &        & Z_4\n",
    "\\end{array}\n",
    "\\right\\rbrace_G\n",
    "+\n",
    "\\left\\lbrace\n",
    "\\begin{array}{cl}\n",
    "  0 & 0\\\\\n",
    "  0 & 0\\\\\n",
    "-Mg & 0\n",
    "\\end{array}\n",
    "\\right\\rbrace_G\n",
    "=\n",
    "\\left\\lbrace\n",
    "\\begin{array}{cl}\n",
    "  0 & 0\\\\\n",
    "  -MR\\dot{\\theta}^2 & 0\\\\\n",
    "  0 & 0\n",
    "\\end{array}\n",
    "\\right\\rbrace_G\n",
    "$$"
   ]
  },
  {
   "cell_type": "markdown",
   "metadata": {},
   "source": [
    "$$\n",
    "\\left\\lbrace\n",
    "\\begin{array}{rl}\n",
    "Y_1 + Y_2 + Y_3 + Y_3 &= -MR\\dot{\\theta}^2\\\\\n",
    "Z_1 + Z_2 + Z_3 + Z_4 -Mg &= 0\\\\\n",
    "\\dfrac{V}{2}(-Z_1-Z_2+Z_3+Z_4) + h(Y_1+Y_2+Y_3+Y_4)&=0\n",
    "\\end{array}\n",
    "\\right.\n",
    "$$"
   ]
  },
  {
   "cell_type": "markdown",
   "metadata": {},
   "source": [
    "On obtient :\n",
    "\n",
    "$$Y_1 = -Y_4-\\frac{MR\\dot{\\theta}^2}{2}$$\n",
    "\n",
    "$$Z_1 = M\\left[\\frac{g}{4}-\\frac{h}{2V}R\\dot{\\theta}^2\\right]\\quad Z_4 = M\\left[\\frac{g}{4}+\\frac{h}{2V}R\\dot{\\theta}^2\\right]$$"
   ]
  },
  {
   "cell_type": "markdown",
   "metadata": {},
   "source": [
    "Pour traiter la bascule en virage, ll faut considérer deux situations :\n",
    "1. La voiture glisse vers l'extérieur du virage et ne bascule pas.\n",
    "2. La voiture ne glisse pas mais bascule.\n",
    "\n",
    "Dans le cas 1) la condition de glissement la plus sévère s'écrit sur la roue extérieure au virage car $Z_4>Z_1$ et on a adhérence tant que :\n",
    "\n",
    "$$\\vert Y_4\\vert\\leq f\\vert Z_4\\vert$$\n",
    "\n",
    "Soit :\n",
    "\n",
    "$$\\vert Y_1-\\frac{MR\\dot{\\theta}^2}{2} \\vert \\leq M\\left[\\frac{g}{4}+\\frac{h}{2V}R\\dot{\\theta}^2\\right]$$\n",
    "\n",
    "Il faudrait connaître la valeur de $Y_1$, on peut supposer $Y_1\\simeq\\varepsilon\\simeq0$, tous les efforts de contact sont sur les roues extérieures au virage ...\n",
    "\n",
    "$$\\frac{MR\\dot{\\theta}^2}{2}\\leq M\\left[\\frac{g}{4}+\\frac{h}{2V}R\\dot{\\theta}^2\\right]$$\n",
    "\n",
    "Soit\n",
    "\n",
    "$$R\\dot{\\theta}^2\\leq g\\frac{Vf}{2(V-fh)}$$"
   ]
  },
  {
   "cell_type": "code",
   "execution_count": 10,
   "metadata": {},
   "outputs": [
    {
     "name": "stdout",
     "output_type": "stream",
     "text": [
      "accélération normale maxi avant glissement 0.598g\n"
     ]
    }
   ],
   "source": [
    "kg=(V*f)/(2*(V-f*h))\n",
    "print('accélération normale maxi avant glissement %.3fg'%kg)"
   ]
  },
  {
   "cell_type": "markdown",
   "metadata": {},
   "source": [
    "Dans le cas 2), la basucle se produit (en supposant qu'il n'y ait pas glissement !!) lorsque $Z_{1,2}<0$ donc :\n",
    "\n",
    "$$\\frac{g}{4}-\\frac{h}{2V}R\\dot{\\theta}^2<0$$\n",
    "\n",
    "Soit :\n",
    "\n",
    "$$R\\dot{\\theta}^2>g\\frac{V}{2h}$$"
   ]
  },
  {
   "cell_type": "code",
   "execution_count": 11,
   "metadata": {},
   "outputs": [
    {
     "name": "stdout",
     "output_type": "stream",
     "text": [
      "accélération normale maxi avant bascule 0.844g\n"
     ]
    }
   ],
   "source": [
    "kb=V/(2*h)\n",
    "print('accélération normale maxi avant bascule %.3fg'%kb)"
   ]
  },
  {
   "cell_type": "markdown",
   "metadata": {},
   "source": [
    "On voit que la voiture va glisser avant de basculer, ce qui est plutôt rassurant !!!"
   ]
  },
  {
   "cell_type": "markdown",
   "metadata": {},
   "source": [
    "Pour que la voiture puisse basculer il faudrait que :\n",
    "\n",
    "$$\n",
    "g\\frac{Vf}{2(V-fh)} \\geq g\\frac{V}{2h}\\Longrightarrow \\frac{f}{(V-fh)} \\geq \\frac{1}{h}\\Longrightarrow (V-fh)\\leq hf\n",
    "$$\n",
    "\n",
    "Soit :\n",
    "\n",
    "$$\n",
    "\\frac{V}{h}\\leq 2f\n",
    "$$"
   ]
  },
  {
   "cell_type": "markdown",
   "metadata": {},
   "source": [
    "Avec la même voie $V$, il faudrait augmenter la hauteur du CdG de $164$mm."
   ]
  },
  {
   "cell_type": "markdown",
   "metadata": {},
   "source": [
    "----\n",
    "#### BONUS :\n",
    "\n",
    "#### Résolution par calcul formel du PFS de la voiture :\n"
   ]
  },
  {
   "cell_type": "markdown",
   "metadata": {},
   "source": [
    "On montre ici comment résoudre par calcul formel un PFS. Calcul formel = calcul littéral par oppositon à calcul numérique."
   ]
  },
  {
   "cell_type": "code",
   "execution_count": 1,
   "metadata": {},
   "outputs": [],
   "source": [
    "from sympy import *                  # Libraire de calculs symboliquen docs->http://www.sympy.org\n",
    "from sympy.vector import CoordSys3D  # Module de gestion des vecteurs de sympy.\n",
    "from IPython.display import display, Latex\n",
    "# On défini les variables symboliques qui seront utilisées\n",
    "# dans les calculs.\n",
    "e,V,l,h,M,g,a = symbols ('e V l h M g a')\n",
    "\n",
    "# On défini les 12 composantes, inconnues des actions de contact :\n",
    "# Roue ARG:\n",
    "X1,Y1,Z1 = symbols ('X_1 Y_1 Z_1')\n",
    "# Roue AVG:\n",
    "X2,Y2,Z2 = symbols ('X_2 Y_2 Z_2')\n",
    "# Roue AVD:\n",
    "X3,Y3,Z3 = symbols ('X_3 Y_3 Z_3')\n",
    "# Roue ARD:\n",
    "X4,Y4,Z4 = symbols ('X_4 Y_4 Z_4')\n",
    "\n",
    "# Repere :\n",
    "Rg = CoordSys3D('Rg')\n",
    "# Vecteur des positions des points de contact par\n",
    "# rapport à G.\n",
    "GM1 =  (l-e)*Rg.i  - V/2*Rg.j - h*Rg.k\n",
    "GM4 =  (l-e)*Rg.i  + V/2*Rg.j - h*Rg.k\n",
    "GM2 =      l*Rg.i  - V/2*Rg.j - h*Rg.k\n",
    "GM3 =      l*Rg.i  + V/2*Rg.j - h*Rg.k\n",
    "\n",
    "# On défini les résultantes des actions mécaniques :\n",
    "R1 = X1*Rg.i + Y1*Rg.j + Z1*Rg.k\n",
    "R2 = X2*Rg.i + Y2*Rg.j + Z2*Rg.k\n",
    "R3 = X3*Rg.i + Y3*Rg.j + Z3*Rg.k\n",
    "R4 = X4*Rg.i + Y4*Rg.j + Z4*Rg.k\n",
    "\n",
    "\n",
    "# La résultant du PFS -> equation vectorielle\n",
    "RPFS  = R1 + R2 + R3 + R4 - M*g*Rg.k\n",
    "\n",
    "# Le moment résultant du PFS -> equation vectorielle\n",
    "# On passe par les équations vectorielles pour calculer les moments automatiquement\n",
    "# avec le produit vectoriel : .cross() -> une des métodes des objets vecteurs de sympy.\n",
    "\n",
    "MPFS = GM1.cross(R1) + GM2.cross(R2) + GM3.cross(R3) + GM4.cross(R4) "
   ]
  },
  {
   "cell_type": "code",
   "execution_count": 2,
   "metadata": {},
   "outputs": [],
   "source": [
    "# Ici on calcule les équations scalaires du PFS\n",
    "# en projetant les équations vectorielles sur les axes\n",
    "# du repère -> on utilise le produit scalaire .dot()\n",
    "PFS = []\n",
    "for unit_vector in Rg.base_vectors():\n",
    "    PFS.append(RPFS.dot(unit_vector))\n",
    "for unit_vector in Rg.base_vectors():\n",
    "    PFS.append(MPFS.dot(unit_vector))"
   ]
  },
  {
   "cell_type": "code",
   "execution_count": 9,
   "metadata": {},
   "outputs": [],
   "source": [
    "# On ajoute les équations de symétrie\n",
    "# Par défaut l'équation est : Z1-Z4==0\n",
    "PFS.append(Z1 - Z4)\n",
    "PFS.append(X1 - X4)\n",
    "PFS.append(Z2 - Z3)\n",
    "PFS.append(X2 - X3)\n",
    "\n",
    "# On ajoute les équations permettant de traiter ce problème dans le plan [X,Z] :\n",
    "# Pour i=1..4, on ajoute des équations Yi=0.\n",
    "PFS.append(Y1)\n",
    "PFS.append(Y2)\n",
    "PFS.append(Y3)\n",
    "PFS.append(Y4)"
   ]
  },
  {
   "cell_type": "code",
   "execution_count": 10,
   "metadata": {},
   "outputs": [
    {
     "data": {
      "text/latex": [
       "$\\left\\{ X_{1} : - X_{3}, \\  X_{2} : X_{3}, \\  X_{4} : - X_{3}, \\  Y_{1} : 0, \\  Y_{2} : 0, \\  Y_{3} : 0, \\  Y_{4} : 0, \\  Z_{1} : \\frac{M g l}{2 e}, \\  Z_{2} : \\frac{M g \\left(e - l\\right)}{2 e}, \\  Z_{3} : \\frac{M g \\left(e - l\\right)}{2 e}, \\  Z_{4} : \\frac{M g l}{2 e}\\right\\}$"
      ],
      "text/plain": [
       "<IPython.core.display.Latex object>"
      ]
     },
     "metadata": {},
     "output_type": "display_data"
    }
   ],
   "source": [
    "# On résout symboliquement le système de 12 équations et 12 inconnues :\n",
    "Sol = solve(PFS,[X1,Y1,Z1,X2,Y2,Z2,X3,Y3,Z3,X4,Y4,Z4])\n",
    "# Affichage des solutions :\n",
    "display(Latex('$'+latex(Sol)+'$'))"
   ]
  },
  {
   "cell_type": "markdown",
   "metadata": {},
   "source": []
  }
 ],
 "metadata": {
  "kernelspec": {
   "display_name": "Python 3",
   "language": "python",
   "name": "python3"
  },
  "language_info": {
   "codemirror_mode": {
    "name": "ipython",
    "version": 3
   },
   "file_extension": ".py",
   "mimetype": "text/x-python",
   "name": "python",
   "nbconvert_exporter": "python",
   "pygments_lexer": "ipython3",
   "version": "3.7.7"
  },
  "widgets": {
   "application/vnd.jupyter.widget-state+json": {
    "state": {},
    "version_major": 2,
    "version_minor": 0
   }
  }
 },
 "nbformat": 4,
 "nbformat_minor": 4
}
